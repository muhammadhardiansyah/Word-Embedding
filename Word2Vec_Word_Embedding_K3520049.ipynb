{
  "cells": [
    {
      "cell_type": "markdown",
      "metadata": {
        "id": "view-in-github",
        "colab_type": "text"
      },
      "source": [
        "<a href=\"https://colab.research.google.com/github/muhammadhardiansyah/Word-Embedding/blob/main/Word2Vec_Word_Embedding_K3520049.ipynb\" target=\"_parent\"><img src=\"https://colab.research.google.com/assets/colab-badge.svg\" alt=\"Open In Colab\"/></a>"
      ]
    },
    {
      "cell_type": "markdown",
      "metadata": {
        "id": "DYroGDgauZQY"
      },
      "source": [
        "# Word2vec "
      ]
    },
    {
      "cell_type": "markdown",
      "metadata": {
        "id": "jLTKdh9PQTgM"
      },
      "source": [
        "**INSTALL GENSIM**"
      ]
    },
    {
      "cell_type": "code",
      "execution_count": null,
      "metadata": {
        "colab": {
          "base_uri": "https://localhost:8080/",
          "height": 470
        },
        "id": "1d_9rT7quURS",
        "outputId": "4b841633-3b10-4697-d82c-3f5af1ffea5a"
      },
      "outputs": [
        {
          "output_type": "stream",
          "name": "stdout",
          "text": [
            "Looking in indexes: https://pypi.org/simple, https://us-python.pkg.dev/colab-wheels/public/simple/\n",
            "Collecting gensim==3.8.3\n",
            "  Downloading gensim-3.8.3.tar.gz (23.4 MB)\n",
            "\u001b[2K     \u001b[90m━━━━━━━━━━━━━━━━━━━━━━━━━━━━━━━━━━━━━━━━\u001b[0m \u001b[32m23.4/23.4 MB\u001b[0m \u001b[31m18.9 MB/s\u001b[0m eta \u001b[36m0:00:00\u001b[0m\n",
            "\u001b[?25h  Preparing metadata (setup.py) ... \u001b[?25l\u001b[?25hdone\n",
            "Requirement already satisfied: numpy>=1.11.3 in /usr/local/lib/python3.9/dist-packages (from gensim==3.8.3) (1.22.4)\n",
            "Requirement already satisfied: scipy>=0.18.1 in /usr/local/lib/python3.9/dist-packages (from gensim==3.8.3) (1.10.1)\n",
            "Requirement already satisfied: six>=1.5.0 in /usr/local/lib/python3.9/dist-packages (from gensim==3.8.3) (1.16.0)\n",
            "Requirement already satisfied: smart_open>=1.8.1 in /usr/local/lib/python3.9/dist-packages (from gensim==3.8.3) (6.3.0)\n",
            "Building wheels for collected packages: gensim\n",
            "  Building wheel for gensim (setup.py) ... \u001b[?25l\u001b[?25hdone\n",
            "  Created wheel for gensim: filename=gensim-3.8.3-cp39-cp39-linux_x86_64.whl size=26528069 sha256=57ab87f81c2d2e60e257c02032ccfcc95c32d3583a9655187cdb9a51c4611136\n",
            "  Stored in directory: /root/.cache/pip/wheels/ca/5d/af/618594ec2f28608c1d6ee7d2b7e95a3e9b06551e3b80a491d6\n",
            "Successfully built gensim\n",
            "Installing collected packages: gensim\n",
            "  Attempting uninstall: gensim\n",
            "    Found existing installation: gensim 4.3.1\n",
            "    Uninstalling gensim-4.3.1:\n",
            "      Successfully uninstalled gensim-4.3.1\n",
            "Successfully installed gensim-3.8.3\n"
          ]
        },
        {
          "output_type": "display_data",
          "data": {
            "application/vnd.colab-display-data+json": {
              "pip_warning": {
                "packages": [
                  "gensim"
                ]
              }
            }
          },
          "metadata": {}
        }
      ],
      "source": [
        "!pip install gensim==3.8.3"
      ]
    },
    {
      "cell_type": "markdown",
      "metadata": {
        "id": "AoDRgyDHQanS"
      },
      "source": [
        "**DOWNLOAD REQUIREMENT**"
      ]
    },
    {
      "cell_type": "code",
      "execution_count": 1,
      "metadata": {
        "id": "QPGdhZedvEi4"
      },
      "outputs": [],
      "source": [
        "url = 'https://dumps.wikimedia.org/idwiki/20230320/idwiki-20230320-pages-articles.xml.bz2'\n",
        "file_wiki = 'idwiki-20230320-pages-articles.xml.bz2'\n",
        "file_idwiki = \"idwiki.txt\""
      ]
    },
    {
      "cell_type": "code",
      "execution_count": 2,
      "metadata": {
        "id": "cMlRg6KHzO-Z"
      },
      "outputs": [],
      "source": [
        "import os\n",
        "import gensim"
      ]
    },
    {
      "cell_type": "code",
      "execution_count": null,
      "metadata": {
        "colab": {
          "base_uri": "https://localhost:8080/"
        },
        "id": "lcBjhmm_zSOY",
        "outputId": "46aab0a5-e3d2-4b75-cfd3-2cc4d6dac96a"
      },
      "outputs": [
        {
          "name": "stdout",
          "output_type": "stream",
          "text": [
            "--2023-03-30 04:48:52--  https://dumps.wikimedia.org/idwiki/20230320/idwiki-20230320-pages-articles.xml.bz2\n",
            "Resolving dumps.wikimedia.org (dumps.wikimedia.org)... 208.80.154.142, 2620:0:861:2:208:80:154:142\n",
            "Connecting to dumps.wikimedia.org (dumps.wikimedia.org)|208.80.154.142|:443... connected.\n",
            "HTTP request sent, awaiting response... 200 OK\n",
            "Length: 834421844 (796M) [application/octet-stream]\n",
            "Saving to: ‘idwiki-20230320-pages-articles.xml.bz2’\n",
            "\n",
            "idwiki-20230320-pag 100%[===================>] 795.77M  4.09MB/s    in 3m 26s  \n",
            "\n",
            "2023-03-30 04:52:18 (3.86 MB/s) - ‘idwiki-20230320-pages-articles.xml.bz2’ saved [834421844/834421844]\n",
            "\n"
          ]
        }
      ],
      "source": [
        "if not os.path.isfile(file_wiki):\n",
        "  !wget $url"
      ]
    },
    {
      "cell_type": "markdown",
      "metadata": {
        "id": "41NriIbxQgFT"
      },
      "source": [
        "****"
      ]
    },
    {
      "cell_type": "markdown",
      "metadata": {
        "id": "yF_PkcLFQ77p"
      },
      "source": [
        "**MAKE DATASET**"
      ]
    },
    {
      "cell_type": "code",
      "execution_count": 3,
      "metadata": {
        "id": "Z6qYUcA-0tcS"
      },
      "outputs": [],
      "source": [
        "wiki_indo = gensim.corpora.WikiCorpus(file_wiki, dictionary={})"
      ]
    },
    {
      "cell_type": "code",
      "execution_count": null,
      "metadata": {
        "colab": {
          "background_save": true
        },
        "id": "rh8zuo_q1CCQ",
        "outputId": "cbb33b79-02ef-4735-f254-86d5db17ded4"
      },
      "outputs": [
        {
          "name": "stdout",
          "output_type": "stream",
          "text": [
            "total: 479965\n"
          ]
        }
      ],
      "source": [
        "with open(file_idwiki, 'w') as f:\n",
        "  i = 0\n",
        "  for text in wiki_indo.get_texts():\n",
        "    text = ' '.join(text)\n",
        "    text = text.lower()\n",
        "    f.write(text + '\\n')\n",
        "    i += 1\n",
        "  \n",
        "  print('total:', str(i))"
      ]
    },
    {
      "cell_type": "markdown",
      "metadata": {
        "id": "Y4_mz0_hQx7S"
      },
      "source": [
        "**BUILD OR TRAINING MODEL**"
      ]
    },
    {
      "cell_type": "code",
      "execution_count": 4,
      "metadata": {
        "id": "kB8Ixt8COtjh"
      },
      "outputs": [],
      "source": [
        "model_path = \"wiki_word2vec_gensim3.model\""
      ]
    },
    {
      "cell_type": "code",
      "execution_count": 5,
      "metadata": {
        "id": "ph6xPeDoPVxX"
      },
      "outputs": [],
      "source": [
        "sentences = gensim.models.word2vec.LineSentence(file_idwiki)\n",
        "\n",
        "model = gensim.models.word2vec.Word2Vec(sentences, size=100, window=5, min_count=1, workers=4, sg=1)\n",
        "model.save(model_path)"
      ]
    },
    {
      "cell_type": "markdown",
      "metadata": {
        "id": "vHA2oL7RRIOJ"
      },
      "source": [
        "**LOAD MODEL**"
      ]
    },
    {
      "cell_type": "code",
      "execution_count": 6,
      "metadata": {
        "id": "BXULIPUuLkhO"
      },
      "outputs": [],
      "source": [
        "model = gensim.models.Word2Vec.load(model_path)"
      ]
    },
    {
      "cell_type": "markdown",
      "metadata": {
        "id": "mGGw0M4HRK2w"
      },
      "source": [
        "**TESTING**"
      ]
    },
    {
      "cell_type": "code",
      "execution_count": 7,
      "metadata": {
        "colab": {
          "base_uri": "https://localhost:8080/"
        },
        "id": "aA4priZiLtgb",
        "outputId": "88474a2b-d041-4cfc-8d63-3b032a60ffc7"
      },
      "outputs": [
        {
          "output_type": "stream",
          "name": "stdout",
          "text": [
            "[-3.92348707e-01 -8.60238969e-02  2.43718088e-01 -3.83597225e-01\n",
            "  5.15549853e-02  4.34537530e-02 -4.33040202e-01 -1.91892087e-01\n",
            "  9.22161527e-03  5.84500909e-01 -5.27559459e-01  3.83570284e-01\n",
            "  5.27295172e-01 -7.31922805e-01 -1.26498446e-01 -1.27303064e-01\n",
            " -5.76087907e-02 -1.71019465e-01 -2.18567625e-01 -6.71845973e-02\n",
            " -3.07686269e-01 -5.15404753e-02 -4.11151171e-01 -4.88626659e-01\n",
            "  5.94838500e-01  4.64359075e-02 -1.06241815e-02  1.53096110e-01\n",
            "  1.16702206e-01 -4.05295253e-01 -6.54105425e-01  2.37777784e-01\n",
            " -2.98746765e-01 -8.62354934e-01  1.03396237e+00  5.38677461e-02\n",
            " -2.56517931e-04 -4.89285648e-01 -2.81476051e-01 -1.60910264e-02\n",
            " -9.67104211e-02  1.02516025e-01 -1.93946883e-02 -8.67902100e-01\n",
            " -1.47243276e-01  1.46940742e-02 -8.16593468e-02  4.25344527e-01\n",
            " -2.45962605e-01  2.76672430e-02 -1.47498220e-01  5.65070570e-01\n",
            "  5.49677014e-02 -2.39425227e-02 -4.60609049e-01 -4.40328687e-01\n",
            " -9.88680363e-01  6.64819479e-02  1.52813727e-02  1.57631874e-01\n",
            "  1.64612070e-01 -9.03069302e-02 -5.27905226e-01 -3.14457476e-01\n",
            " -1.37770310e-01 -6.74234284e-03 -5.96822262e-01  3.02649677e-01\n",
            "  3.95017743e-01  3.76602918e-01  3.08062762e-01 -1.62941128e-01\n",
            "  5.44506073e-01  4.36264306e-01 -6.09102726e-01 -9.45018530e-02\n",
            "  4.92464304e-01 -1.61161311e-02 -3.05347770e-01 -1.32038623e-01\n",
            "  3.20412256e-02  3.18565965e-01 -7.27330446e-01  7.85899460e-01\n",
            " -1.30819613e-02  7.19734505e-02  5.80257118e-01  3.91047448e-01\n",
            "  5.34038246e-01 -4.17367332e-02  1.88127011e-02  2.15733603e-01\n",
            "  3.48871350e-01 -1.09688185e-01 -2.62270778e-01 -6.28138483e-01\n",
            "  2.59292781e-01  4.09092575e-01  3.75748187e-01  5.27982652e-01]\n"
          ]
        }
      ],
      "source": [
        "#print vector kata indonesia\n",
        "\n",
        "print(model.wv['pria'])"
      ]
    },
    {
      "cell_type": "code",
      "execution_count": 8,
      "metadata": {
        "colab": {
          "base_uri": "https://localhost:8080/"
        },
        "id": "Jz7KDRPUMO_V",
        "outputId": "cacf264d-04a7-4197-e274-b4119af33da5"
      },
      "outputs": [
        {
          "output_type": "stream",
          "name": "stdout",
          "text": [
            "[('wanita', 0.90577632188797), ('wanitanya', 0.8007909059524536), ('lelaki', 0.7897864580154419), ('laki', 0.7734678983688354), ('prianya', 0.762128472328186), ('perempuan', 0.7586116790771484), ('gadis', 0.7566635608673096), ('bertato', 0.7461358904838562), ('nijikon', 0.7421833872795105), ('transvestit', 0.7351900339126587)]\n"
          ]
        }
      ],
      "source": [
        "#print kata yang paling mirip\n",
        "\n",
        "print(model.wv.most_similar('pria', topn=10))\n"
      ]
    },
    {
      "cell_type": "code",
      "execution_count": 9,
      "metadata": {
        "colab": {
          "base_uri": "https://localhost:8080/"
        },
        "id": "xKOUmI9cM3wV",
        "outputId": "578c23d9-f61a-423f-909e-73a478cc8ec1"
      },
      "outputs": [
        {
          "output_type": "stream",
          "name": "stdout",
          "text": [
            "[('dayang', 0.7224984169006348), ('pangeran', 0.7079424262046814), ('permaisurinya', 0.6995883584022522), ('raja', 0.6946130990982056), ('ibunda', 0.6919640898704529), ('debsirindra', 0.6889435648918152), ('jayakelana', 0.6852837800979614), ('radeya', 0.6838703155517578), ('adindanya', 0.6777389049530029), ('janda', 0.6768821477890015)]\n"
          ]
        }
      ],
      "source": [
        "#print analogi\n",
        "\n",
        "print(model.wv.most_similar(positive=['ratu', 'pria'], negative=['wanita'], topn=10))"
      ]
    },
    {
      "cell_type": "code",
      "execution_count": 10,
      "metadata": {
        "colab": {
          "base_uri": "https://localhost:8080/"
        },
        "id": "pJpk2ekINem6",
        "outputId": "fa8e6be3-3d9e-4d67-c1a7-42c45b0c8af2"
      },
      "outputs": [
        {
          "output_type": "stream",
          "name": "stdout",
          "text": [
            "0.9057763\n"
          ]
        }
      ],
      "source": [
        "#print similarity\n",
        "\n",
        "print(model.wv.similarity('wanita', 'pria'))"
      ]
    },
    {
      "cell_type": "code",
      "execution_count": 17,
      "metadata": {
        "colab": {
          "base_uri": "https://localhost:8080/"
        },
        "id": "ou3BbP-jO3Ob",
        "outputId": "6164c172-4935-4bf9-c6e6-104b700fb00f"
      },
      "outputs": [
        {
          "output_type": "stream",
          "name": "stdout",
          "text": [
            "kucing\n"
          ]
        }
      ],
      "source": [
        "#print outlayer\n",
        "print(model.wv.doesnt_match(\"merah kucing hijau kuning biru\".split()))"
      ]
    }
  ],
  "metadata": {
    "colab": {
      "provenance": [],
      "include_colab_link": true
    },
    "kernelspec": {
      "display_name": "Python 3",
      "name": "python3"
    }
  },
  "nbformat": 4,
  "nbformat_minor": 0
}